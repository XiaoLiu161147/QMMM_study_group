{
 "cells": [
  {
   "cell_type": "markdown",
   "metadata": {},
   "source": [
    "# DFT"
   ]
  },
  {
   "cell_type": "markdown",
   "metadata": {},
   "source": [
    "## Imports"
   ]
  },
  {
   "cell_type": "code",
   "execution_count": 1,
   "metadata": {},
   "outputs": [],
   "source": [
    "import numpy as np\n",
    "import scipy.linalg as spla\n",
    "import pyscf\n",
    "from pyscf import gto, scf, dft\n",
    "import matplotlib.pyplot as plt\n",
    "import time\n",
    "%matplotlib notebook"
   ]
  },
  {
   "cell_type": "markdown",
   "metadata": {},
   "source": [
    "## DFT\n",
    "In HF, the expression for energy was written \n",
    "$$G_{\\mu\\nu} = \\sum_{\\lambda\\sigma}^{\\mathrm{num\\_ao}} P_{\\lambda \\sigma}[2(\\mu\\nu|\\lambda\\sigma)-(\\mu\\lambda|\\nu\\sigma)]$$ \n",
    "\n",
    "$$G_{\\mu\\nu} = \\sum_{\\lambda\\sigma}^{\\mathrm{num\\_ao}} P_{\\lambda \\sigma}[2J - K]$$ \n",
    "\n",
    "$$\n",
    "E = \\sum^{\\mathrm{num\\_ao}}_{\\mu\\nu} P_{\\mu\\nu} (H_{\\mu\\nu} + F_{\\mu\\nu})\n",
    "$$\n",
    "\n",
    "In DFT, the energy is written in terms of the electron density\n",
    "\n",
    "$$E[n(r)] = T[n(r)] + V_{eN}[n(r)] + 0.5V_{coul}[n(r)] +E_{xc}[n(r)]$$"
   ]
  },
  {
   "cell_type": "markdown",
   "metadata": {},
   "source": [
    "# STEP 1 : Specify the molecule"
   ]
  },
  {
   "cell_type": "code",
   "execution_count": 2,
   "metadata": {},
   "outputs": [],
   "source": [
    "# start timer\n",
    "start_time = time.time()\n",
    "# define molecule\n",
    "mol = pyscf.gto.M(\n",
    "    atom=\"O 0.0000000 0.0000000 0.0000000; H 0.7569685 0.0000000 -0.5858752; H -0.7569685 0.0000000 -0.5858752\",\n",
    "    basis='sto-3g',\n",
    "    unit=\"Ang\",\n",
    "    verbose=0,\n",
    "    symmetry=False,\n",
    "    spin=0,\n",
    "    charge=0\n",
    ")\n",
    "# get number of atomic orbitals\n",
    "num_ao = mol.nao_nr()\n",
    "# get number of electrons\n",
    "num_elec_alpha, num_elec_beta = mol.nelec\n",
    "num_elec = num_elec_alpha + num_elec_beta\n",
    "# get nuclear repulsion energy\n",
    "E_nuc = mol.energy_nuc()"
   ]
  },
  {
   "cell_type": "code",
   "execution_count": 3,
   "metadata": {},
   "outputs": [
    {
     "name": "stdout",
     "output_type": "stream",
     "text": [
      "LDA (PYSCF) = -74.05975826788571\n"
     ]
    }
   ],
   "source": [
    "mol = pyscf.gto.M(\n",
    "    atom=\"O 0.0000000 0.0000000 0.0000000; H 0.7569685 0.0000000 -0.5858752; H -0.7569685 0.0000000 -0.5858752\",\n",
    "    basis='sto-3g',\n",
    "    unit=\"Ang\",\n",
    "    verbose=0,\n",
    "    symmetry=False,\n",
    "    spin=0,\n",
    "    charge=0\n",
    ")\n",
    "mf = dft.RKS(mol)\n",
    "mf.xc = 'lda'\n",
    "print(\"LDA (PYSCF) = {}\".format(mf.kernel()))\n",
    "\n",
    "# get dft grid\n",
    "grid_coords = mf.grids.coords\n",
    "grid_weights = mf.grids.weights\n",
    "ao_value = dft.numint.eval_ao(mol, grid_coords, deriv=0)"
   ]
  },
  {
   "cell_type": "markdown",
   "metadata": {},
   "source": [
    "# STEP 2 : Calculate molecular integrals \n",
    "\n",
    "Overlap \n",
    "\n",
    "$$ S_{\\mu\\nu} = (\\mu|\\nu) = \\int dr \\phi^*_{\\mu}(r) \\phi_{\\nu}(r) $$\n",
    "\n",
    "Kinetic\n",
    "\n",
    "$$ T_{\\mu\\nu} = (\\mu\\left|-\\frac{\\nabla}{2}\\right|\\nu) = \\int dr \\phi^*_{\\mu}(r) \\left(-\\frac{\\nabla}{2}\\right) \\phi_{\\nu}(r) $$\n",
    "\n",
    "Nuclear Attraction\n",
    "\n",
    "$$ V_{\\mu\\nu} = (\\mu|r^{-1}|\\nu) = \\int dr \\phi^*_{\\mu}(r) r^{-1} \\phi_{\\nu}(r) $$\n",
    "\n",
    "Form Core Hamiltonian\n",
    "\n",
    "$$ H = T + V $$\n"
   ]
  },
  {
   "cell_type": "code",
   "execution_count": 4,
   "metadata": {},
   "outputs": [],
   "source": [
    "# calculate overlap integrals\n",
    "S = mol.intor('cint1e_ovlp_sph')\n",
    "# calculate kinetic energy integrals\n",
    "T = mol.intor('cint1e_kin_sph')\n",
    "# calculate nuclear attraction integrals\n",
    "V = mol.intor('cint1e_nuc_sph')\n",
    "# form core Hamiltonian\n",
    "H = T + V\n",
    "# since we are using the 8 fold symmetry of the 2 electron integrals\n",
    "# the functions below will help us when accessing elements\n",
    "__idx2_cache = {}\n",
    "\n",
    "# calculate two electron integrals\n",
    "eri = mol.intor('cint2e_sph', aosym='s8')\n",
    "\n",
    "\n",
    "def idx2(i, j):\n",
    "    if (i, j) in __idx2_cache:\n",
    "        return __idx2_cache[i, j]\n",
    "    elif i >= j:\n",
    "        __idx2_cache[i, j] = int(i*(i+1)/2+j)\n",
    "    else:\n",
    "        __idx2_cache[i, j] = int(j*(j+1)/2+i)\n",
    "    return __idx2_cache[i, j]\n",
    "\n",
    "\n",
    "def idx4(i, j, k, l):\n",
    "    return idx2(idx2(i, j), idx2(k, l))\n",
    "\n"
   ]
  },
  {
   "cell_type": "markdown",
   "metadata": {},
   "source": [
    "# STEP 3 : Form guess density matrix"
   ]
  },
  {
   "cell_type": "code",
   "execution_count": 5,
   "metadata": {},
   "outputs": [],
   "source": [
    "# set inital density matrix to zero\n",
    "D = np.zeros((num_ao, num_ao))"
   ]
  },
  {
   "cell_type": "markdown",
   "metadata": {},
   "source": [
    "DFT Algorithm"
   ]
  },
  {
   "cell_type": "code",
   "execution_count": 6,
   "metadata": {},
   "outputs": [],
   "source": [
    "# 2 helper functions for printing during SCF\n",
    "def print_start_iterations():\n",
    "    print(\"{:^79}\".format(\"{:>4}  {:>11}  {:>11}  {:>11}  {:>11}\".format(\n",
    "        \"Iter\", \"Time(s)\", \"RMSC DM\", \"delta E\", \"E_elec\")))\n",
    "    print(\"{:^79}\".format(\"{:>4}  {:>11}  {:>11}  {:>11}  {:>11}\".format(\n",
    "        \"****\", \"*******\", \"*******\", \"*******\", \"******\")))\n",
    "\n",
    "\n",
    "def print_iteration(iteration_num, iteration_start_time, iteration_end_time, iteration_rmsc_dm, iteration_E_diff, E_elec):\n",
    "    print(\"{:^79}\".format(\"{:>4d}  {:>11f}  {:>.5E}  {:>.5E}  {:>11f}\".format(iteration_num,\n",
    "                                                                              iteration_end_time - iteration_start_time, iteration_rmsc_dm, iteration_E_diff, E_elec)))\n",
    "\n",
    "\n",
    "# set stopping criteria\n",
    "iteration_max = 100\n",
    "convergence_E = 1e-9\n",
    "convergence_DM = 1e-5\n",
    "# loop variables\n",
    "iteration_num = 0\n",
    "E_total = 0\n",
    "E_elec = 0.0\n",
    "iteration_E_diff = 0.0\n",
    "iteration_rmsc_dm = 0.0\n",
    "converged = False\n",
    "exceeded_iterations = False"
   ]
  },
  {
   "cell_type": "code",
   "execution_count": 7,
   "metadata": {},
   "outputs": [
    {
     "name": "stdout",
     "output_type": "stream",
     "text": [
      "           Iter      Time(s)      RMSC DM      delta E       E_elec            \n",
      "           ****      *******      *******      *******       ******            \n",
      "              1     0.000553  2.69561E+00  1.27367E+02  -127.366748            \n",
      "              2     0.018192  2.34183E+00  5.03077E+01   -77.059094            \n",
      "              3     0.016119  2.04317E+00  1.01318E+01   -87.190936            \n",
      "              4     0.015745  1.75887E+00  8.49074E+00   -78.700191            \n",
      "              5     0.016424  1.67237E+00  7.67842E+00   -86.378611            \n",
      "              6     0.021860  1.56852E+00  7.21961E+00   -79.159003            \n",
      "              7     0.012774  1.52798E+00  6.89795E+00   -86.056949            \n",
      "              8     0.018775  1.47768E+00  6.68479E+00   -79.372159            \n",
      "              9     0.028515  1.45587E+00  6.52288E+00   -85.895037            \n",
      "             10     0.013411  1.42848E+00  6.40861E+00   -79.486423            \n",
      "             11     0.021489  1.41596E+00  6.31872E+00   -85.805146            \n",
      "             12     0.011122  1.40013E+00  6.25324E+00   -79.551904            \n",
      "             13     0.035058  1.39269E+00  6.20077E+00   -85.752677            \n",
      "             14     0.013502  1.38325E+00  6.16187E+00   -79.590803            \n",
      "             15     0.011571  8.23103E-01  2.96589E+00   -82.556696            \n",
      "             16     0.011409  1.85451E-03  9.37823E-02   -82.650479            \n",
      "             17     0.011385  6.49777E-04  3.42752E-03   -82.647051            \n",
      "             18     0.011462  1.68480E-05  3.74670E-05   -82.647014            \n",
      "             19     0.011483  7.20073E-08  3.13764E-06   -82.647017            \n",
      "             20     0.011616  1.18797E-06  4.99020E-06   -82.647012            \n",
      "             21     0.013675  1.32410E-06  5.29175E-06   -82.647017            \n",
      "             22     0.032325  3.26493E-07  1.15281E-06   -82.647016            \n",
      "             23     0.013840  2.28147E-07  9.84836E-07   -82.647015            \n",
      "             24     0.012191  2.95593E-07  1.25656E-06   -82.647014            \n",
      "             25     0.012011  2.57070E-06  1.09291E-05   -82.647003            \n",
      "             26     0.012025  2.42019E-06  9.81654E-06   -82.647013            \n",
      "             27     0.012127  1.65485E-08  3.30077E-07   -82.647013            \n",
      "             28     0.014435  3.00200E-08  1.29513E-07   -82.647013            \n",
      "             29     0.034191  5.09253E-09  2.39277E-08   -82.647013            \n",
      "             30     0.012976  8.87918E-09  4.18324E-08   -82.647013            \n",
      "             31     0.012506  8.46430E-08  3.69557E-07   -82.647013            \n",
      "             32     0.012874  3.37547E-07  1.45989E-06   -82.647012            \n",
      "             33     0.012863  5.39583E-07  2.27390E-06   -82.647014            \n",
      "             34     0.036218  4.09045E-07  1.81244E-06   -82.647016            \n",
      "             35     0.023742  5.25414E-07  2.14663E-06   -82.647014            \n",
      "             36     0.013244  2.59385E-09  9.51693E-08   -82.647014            \n",
      "             37     0.013380  7.39159E-08  3.10686E-07   -82.647014            \n",
      "             38     0.013569  5.60759E-08  2.23227E-07   -82.647014            \n",
      "             39     0.015902  1.99897E-08  7.69881E-08   -82.647014            \n",
      "             40     0.036800  4.02791E-08  1.75546E-07   -82.647014            \n",
      "             41     0.016784  1.77396E-07  7.51435E-07   -82.647013            \n",
      "             42     0.014289  3.03255E-08  1.53303E-07   -82.647013            \n",
      "             43     0.014303  7.93292E-08  3.38857E-07   -82.647013            \n",
      "             44     0.014454  1.01234E-06  4.23907E-06   -82.647017            \n",
      "             45     0.014610  2.04813E-07  7.00018E-07   -82.647016            \n",
      "             46     0.019058  8.07515E-07  3.41719E-06   -82.647013            \n",
      "             47     0.039279  2.39143E-07  8.45765E-07   -82.647014            \n",
      "             48     0.015838  1.22159E-07  4.48950E-07   -82.647013            \n",
      "             49     0.017761  1.15848E-07  4.83022E-07   -82.647014            \n",
      "             50     0.041297  1.83885E-08  5.83331E-08   -82.647014            \n",
      "             51     0.016670  8.07177E-08  3.57260E-07   -82.647013            \n",
      "             52     0.016184  5.23770E-08  2.25375E-07   -82.647013            \n",
      "             53     0.016266  2.33407E-07  9.97833E-07   -82.647012            \n",
      "             54     0.016564  6.15077E-07  2.56487E-06   -82.647015            \n",
      "             55     0.016777  7.50458E-07  3.08645E-06   -82.647012            \n",
      "             56     0.050294  5.21948E-07  2.09743E-06   -82.647014            \n",
      "             57     0.017919  2.57327E-07  1.17653E-06   -82.647015            \n",
      "             58     0.021797  6.10523E-07  2.54872E-06   -82.647013            \n",
      "             59     0.022630  8.55157E-08  2.62700E-07   -82.647013            \n",
      "             60     0.033648  2.10533E-08  1.01869E-07   -82.647013            \n",
      "             61     0.019142  6.83494E-08  2.94462E-07   -82.647013            \n",
      "             62     0.018471  3.70116E-08  1.45814E-07   -82.647013            \n",
      "             63     0.029150  2.68244E-08  1.20271E-07   -82.647013            \n",
      "             64     0.019064  1.79926E-07  7.61991E-07   -82.647012            \n",
      "             65     0.033062  8.46805E-08  3.27199E-07   -82.647013            \n",
      "             66     0.070827  6.03543E-09  1.41365E-08   -82.647013            \n",
      "             67     0.020409  8.06640E-08  3.42692E-07   -82.647013            \n",
      "             68     0.020162  4.49325E-09  3.24854E-08   -82.647013            \n",
      "             69     0.020381  1.24963E-08  5.32799E-08   -82.647013            \n",
      "             70     0.020859  4.01646E-07  1.70621E-06   -82.647015            \n",
      "             71     0.021013  3.54861E-07  1.43876E-06   -82.647013            \n",
      "             72     0.021224  5.69691E-08  2.99493E-07   -82.647013            \n",
      "             73     0.054812  1.51030E-08  5.44173E-08   -82.647013            \n",
      "             74     0.025661  1.57469E-07  6.70828E-07   -82.647014            \n",
      "             75     0.051873  1.20839E-07  4.86560E-07   -82.647013            \n",
      "             76     0.094383  4.27773E-08  2.01417E-07   -82.647013            \n",
      "             77     0.072050  2.74191E-09  4.14838E-09   -82.647013            \n",
      "             78     0.072408  7.24272E-08  3.07331E-07   -82.647013            \n",
      "             79     0.056807  8.42117E-08  3.45573E-07   -82.647013            \n",
      "             80     0.040992  6.82096E-08  2.75508E-07   -82.647013            \n",
      "             81     0.042281  6.30746E-08  2.56477E-07   -82.647013            \n",
      "             82     0.030669  9.89539E-08  4.27790E-07   -82.647013            \n",
      "             83     0.027996  8.25409E-08  3.32443E-07   -82.647013            \n",
      "             84     0.025832  4.48384E-08  2.02358E-07   -82.647013            \n",
      "             85     0.026252  5.51418E-08  2.29069E-07   -82.647013            \n",
      "             86     0.034089  2.59076E-09  8.34413E-09   -82.647013            \n",
      "             87     0.027299  5.25455E-08  2.29807E-07   -82.647013            \n",
      "             88     0.043170  1.29508E-08  6.38532E-08   -82.647013            \n",
      "             89     0.040915  8.60019E-09  3.94515E-08   -82.647013            \n",
      "             90     0.055284  3.48637E-08  1.48931E-07   -82.647013            \n",
      "             91     0.040747  2.96950E-08  1.20090E-07   -82.647013            \n",
      "             92     0.047822  9.10846E-09  4.29534E-08   -82.647013            \n",
      "             93     0.077003  2.39160E-08  9.97697E-08   -82.647013            \n",
      "             94     0.068672  5.31246E-08  2.21244E-07   -82.647013            \n",
      "             95     0.063736  5.41222E-08  2.20411E-07   -82.647013            \n",
      "             96     0.060786  1.55202E-08  7.79906E-08   -82.647013            \n",
      "             97     0.051175  3.14218E-08  1.34154E-07   -82.647013            \n",
      "             98     0.036852  3.29542E-06  1.40678E-05   -82.646998            \n",
      "             99     0.033648  3.44425E-06  1.41481E-05   -82.647013            \n",
      "            100     0.034989  1.41348E-07  1.17960E-06   -82.647014            \n"
     ]
    }
   ],
   "source": [
    "def diis(F_list, diis_res):\n",
    "    # Build B matrix\n",
    "    dim_B = len(F_list) + 1\n",
    "    B = np.empty((dim_B, dim_B))\n",
    "    B[-1, :] = -1\n",
    "    B[:, -1] = -1\n",
    "    B[-1, -1] = 0\n",
    "    for i in range(len(F_list)):\n",
    "        for j in range(len(F_list)):\n",
    "            B[i, j] = np.einsum('ij,ij->', diis_res[i], diis_res[j])\n",
    "\n",
    "    # Right hand side of Pulay eqn\n",
    "    right = np.zeros(dim_B)\n",
    "    right[-1] = -1\n",
    "\n",
    "    # Solve Pulay for coeffs\n",
    "    cn = np.linalg.solve(B, right)\n",
    "\n",
    "    # Build DIIS Fock\n",
    "    F_diis = np.zeros_like(F_list[0])\n",
    "    for x in range(cn.shape[0] - 1):\n",
    "        F_diis += cn[x] * F_list[x]\n",
    "\n",
    "    return F_diis\n",
    "\n",
    "\n",
    "\n",
    "\n",
    "# Trial & Residual vector lists\n",
    "F_list = []\n",
    "DIIS_resid = []\n",
    "# AO orthogonalization matrix\n",
    "A = spla.fractional_matrix_power(S, -0.5)\n",
    "\n",
    "print_start_iterations()\n",
    "while (not converged and not exceeded_iterations):\n",
    "    # store last iteration and increment counters\n",
    "    iteration_start_time = time.time()\n",
    "    iteration_num += 1\n",
    "    E_elec_last = E_elec\n",
    "    D_last = np.copy(D)\n",
    "    # form G matrix\n",
    "    G = np.zeros((num_ao, num_ao))\n",
    "    exc = 0.0\n",
    "    if iteration_num > 1:\n",
    "        n, exc, vxc = mf._numint.nr_rks(mol, mf.grids, mf.xc, D)\n",
    "        for i in range(num_ao):\n",
    "            for j in range(num_ao):\n",
    "                for k in range(num_ao):\n",
    "                    for l in range(num_ao):\n",
    "                        G[i, j] += D[k, l] * \\\n",
    "                            (2.0*(eri[idx4(i, j, k, l)])) \n",
    "        for i in range(num_ao):\n",
    "            for j in range(num_ao):\n",
    "                 G[i, j] += vxc[i,j]\n",
    "    # build fock matrix\n",
    "    F = H + G\n",
    "    \n",
    "    # =======> Start of DIIS stuff <=========\n",
    "    # Build the DIIS AO gradient\n",
    "    if iteration_num >=10:\n",
    "        diis_r = A.T @ (F @ D @ S - S @ D @ F) @ A\n",
    "\n",
    "        # DIIS RMS\n",
    "        diis_rms = np.mean(diis_r**2)**0.5\n",
    "\n",
    "        # Append lists\n",
    "        F_list.append(F)\n",
    "        DIIS_resid.append(diis_r)\n",
    "\n",
    "        if iteration_num >= 15:\n",
    "            # preform DIIS to get Fock Matrix\n",
    "            F = diis(F_list, DIIS_resid)\n",
    "            \n",
    "            \n",
    "    # solve the generalized eigenvalue problem\n",
    "    E_orbitals, C = spla.eigh(F, S)\n",
    "    # compute new density matrix\n",
    "    D = np.zeros((num_ao, num_ao))\n",
    "    for i in range(num_ao):\n",
    "        for j in range(num_ao):\n",
    "            for k in range(num_elec_alpha):\n",
    "                D[i, j] += C[i, k] * C[j, k]\n",
    "    # calculate electronic energy\n",
    "    \n",
    "    E_elec = np.sum(np.multiply(D, (H + F)))+ exc\n",
    "    \n",
    "    \n",
    "    \n",
    "    # calculate energy change of iteration\n",
    "    iteration_E_diff = np.abs(E_elec - E_elec_last)\n",
    "    # rms change of density matrix\n",
    "    iteration_rmsc_dm = np.sqrt(np.sum((D - D_last)**2))\n",
    "    iteration_end_time = time.time()\n",
    "    print_iteration(iteration_num, iteration_start_time,\n",
    "                    iteration_end_time, iteration_rmsc_dm, iteration_E_diff, E_elec)\n",
    "    if(np.abs(iteration_E_diff) < convergence_E and iteration_rmsc_dm < convergence_DM):\n",
    "        converged = True\n",
    "    if(iteration_num == iteration_max):\n",
    "        exceeded_iterations = True"
   ]
  },
  {
   "cell_type": "markdown",
   "metadata": {},
   "source": [
    "# STEP 9 : Calculate Observables"
   ]
  },
  {
   "cell_type": "code",
   "execution_count": 8,
   "metadata": {},
   "outputs": [],
   "source": [
    "# calculate total energy\n",
    "E_total = E_elec + E_nuc\n"
   ]
  },
  {
   "cell_type": "code",
   "execution_count": 9,
   "metadata": {},
   "outputs": [
    {
     "name": "stdout",
     "output_type": "stream",
     "text": [
      "                          Total Energy :  -73.452150                           \n"
     ]
    }
   ],
   "source": [
    "print(\"{:^79}\".format(\"Total Energy : {:>11f}\".format(E_total)))"
   ]
  },
  {
   "cell_type": "code",
   "execution_count": 10,
   "metadata": {},
   "outputs": [
    {
     "name": "stdout",
     "output_type": "stream",
     "text": [
      "LDA (PYSCF) = -74.05975826788568\n"
     ]
    }
   ],
   "source": [
    "mol = pyscf.gto.M(\n",
    "    atom=\"O 0.0000000 0.0000000 0.0000000; H 0.7569685 0.0000000 -0.5858752; H -0.7569685 0.0000000 -0.5858752\",\n",
    "    basis='sto-3g',\n",
    "    unit=\"Ang\",\n",
    "    verbose=0,\n",
    "    symmetry=False,\n",
    "    spin=0,\n",
    "    charge=0\n",
    ")\n",
    "mf = dft.RKS(mol)\n",
    "mf.xc = 'lda'\n",
    "print(\"LDA (PYSCF) = {}\".format(mf.kernel()))"
   ]
  },
  {
   "cell_type": "code",
   "execution_count": null,
   "metadata": {},
   "outputs": [],
   "source": []
  }
 ],
 "metadata": {
  "kernelspec": {
   "display_name": "Python 3",
   "language": "python",
   "name": "python3"
  },
  "language_info": {
   "codemirror_mode": {
    "name": "ipython",
    "version": 3
   },
   "file_extension": ".py",
   "mimetype": "text/x-python",
   "name": "python",
   "nbconvert_exporter": "python",
   "pygments_lexer": "ipython3",
   "version": "3.6.6"
  }
 },
 "nbformat": 4,
 "nbformat_minor": 2
}
